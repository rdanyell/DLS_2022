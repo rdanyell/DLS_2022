{
 "cells": [
  {
   "cell_type": "markdown",
   "metadata": {},
   "source": [
    "Почти двойной факториал\n",
    "\n",
    "Реализуйте функцию almost_double_factorial(n), вычисляющую произведение всех нечётных натуральных чисел, не превосходящих nn.\n",
    "В качестве аргумента ей передаётся натуральное (ноль -- натуральное) число n \\leqslant 100n⩽100.\n",
    "Возвращаемое значение - вычисленное произведение.\n",
    "\n",
    "Комментарий. В случае, если n = 0, требуется вернуть 1.\n",
    "\n",
    "В этом задании функция print вам не понадобится. Результаты выполнения функций нужно возвращать, а не печатать!"
   ]
  },
  {
   "cell_type": "code",
   "execution_count": null,
   "metadata": {},
   "outputs": [],
   "source": [
    "def almost_double_factorial(n):\n",
    "    if n == 0:\n",
    "       res = 1\n",
    "    elif n > 0:\n",
    "      res = 1\n",
    "      for i in range(n+1):\n",
    "        if i % 2 == 1:\n",
    "          res = res * i\n",
    "    elif n > 100:\n",
    "      print(\"Something is wrong! Please try again\")\n",
    "    return res"
   ]
  },
  {
   "cell_type": "markdown",
   "metadata": {},
   "source": [
    "Хитрая сортировка\n",
    " \n",
    "\n",
    "Пусть у нас есть следующий список, в котором элементы -- tuple из строк:\n",
    "\n",
    "items = [('one', 'two'), ('three', 'four'), ('five', 'six'), ('string', 'a')]\n",
    "Мы хотим отсортировать этот список по последней букве второго элемента каждого tuple, т.е. получить такой список:\n",
    "\n",
    "sorted_items = [ ('string', 'a'), ('one', 'two'), ('three', 'four'), ('five', 'six'),]\n",
    "Напишите код вместо \"<YOUR CODE>\" в следующем выражении, чтобы получить верную сортировку.\n",
    "\n",
    "sorted_items = sorted(items, key=lambda x: <YOUR CODE>)\n",
    " \n",
    "\n",
    "P.S.: в ответе не должно фигурировать слово len .\n",
    "\n",
    "В этом задании функция print вам не понадобится. Необходимо лишь заполнить пропуск."
   ]
  },
  {
   "cell_type": "code",
   "execution_count": null,
   "metadata": {},
   "outputs": [],
   "source": [
    "# items объявлять не нужно\n",
    "sorted_items = sorted(items, key=lambda x: x[1][-1])"
   ]
  },
  {
   "cell_type": "markdown",
   "metadata": {},
   "source": [
    "Слайсы\n",
    " \n",
    "\n",
    "Дан list x:\n",
    "\n",
    "x = [1, 2, 3, 4, 5]\n",
    "x[<YOUR CODE>] = [-1, -3, -5]\n",
    "\n",
    "x\n",
    "Заполните слайс вместо <YOUR CODE>, чтобы результатом стал следующий list:\n",
    "\n",
    "[-5, 2, -3, 4, -1]\n",
    "Ничего больше менять в коде, например, создавать x или печатать его, не нужно! "
   ]
  },
  {
   "cell_type": "code",
   "execution_count": null,
   "metadata": {},
   "outputs": [],
   "source": [
    "x[::-2] = [-1, -3, -5]"
   ]
  },
  {
   "cell_type": "markdown",
   "metadata": {},
   "source": [
    "Создание массивов\n",
    "\n",
    "Дан массив A[0,\\ldots,N-1]A[0,…,N−1]. Реализуйте функцию cumsum_and_erase(...), принимающую один обязательный аргумент AA и один опциональный аргумент eraseerase, по умолчанию равный 1.\n",
    "\n",
    "Функция должна выполнять следующие действия: \n",
    "\n",
    "сформировать массив B[0,\\ldots, N-1]B[0,…,N−1], где B_i = A_0 + \\ldots + A_{i}B \n",
    "i\n",
    "​\n",
    " =A \n",
    "0\n",
    "​\n",
    " +…+A \n",
    "i\n",
    "​\n",
    "  --- массив частичных сумм массива AA;\n",
    "удалить из массива BB все элементы, равные параметру eraseerase; получить массив C;\n",
    "вернуть C в качестве ответа\n",
    "Постарайтесь сделать это за время O(N)O(N) без использования Numpy.\n",
    "\n",
    "Пример работы функции: \n",
    "\n",
    "A = [5, 1, 4, 5, 14] \n",
    "B = cumsum_and_erase(A, erase=10) \n",
    "assert B == [5, 6, 15, 29], \"Something is wrong! Please try again\"\n",
    "В этом задании функция print вам не понадобится. Результаты выполнения функций нужно возвращать, а не печатать! "
   ]
  },
  {
   "cell_type": "code",
   "execution_count": null,
   "metadata": {},
   "outputs": [],
   "source": [
    "def cumsum_and_erase(array, erase = 1):\n",
    "    B= []   \n",
    "    s = 0 \n",
    "    for i in range(len(array)):\n",
    "      s += array[i]\n",
    "      if s != erase: \n",
    "        B.append(s)\n",
    "    return B\n",
    "    return B"
   ]
  },
  {
   "cell_type": "markdown",
   "metadata": {},
   "source": [
    "Обработка текста\n",
    "\n",
    "Дан список текстов, слова в которых разделены пробелами (можно считать, что знаков препинания нет). Часть слов является \"мусорными\": в них присутствуют цифры и спецсимволы. Отфильтруйте такие слова из каждого текста.\n",
    "\n",
    "Используйте функции str.split, str.isalpha, str.join, а также list comprehensions.\n",
    "\n",
    "Пример ввода:\n",
    "\n",
    "['1 thousand devils', 'My name is 9Pasha', 'Room #125 costs $100', '888']\n",
    "\n",
    "Пример вывода: \n",
    "\n",
    "['thousand devils', 'My name is', 'Room costs', '']\n",
    "\n",
    "В этом задании функция print вам не понадобится. Результаты выполнения функций нужно возвращать, а не печатать!\n",
    "\n",
    "Если в тексте все слова являются мусорными, текст должен преобразоваться в пустую строку."
   ]
  },
  {
   "cell_type": "code",
   "execution_count": null,
   "metadata": {},
   "outputs": [],
   "source": [
    "def process(sentences):\n",
    "    result = []\n",
    "    for sentence in sentences:\n",
    "      new_sent = sentence.split(' ')\n",
    "      word = [x for x in new_sent if x.isalpha()]\n",
    "      line = ' '.join(word)\n",
    "      result.append(line)\n",
    "    return result"
   ]
  },
  {
   "cell_type": "markdown",
   "metadata": {},
   "source": [
    "Собственный класс \"Нейрон\"\n",
    "\n",
    "Реализуйте класс \"Нейрон\", у которого будет несколько методов: \n",
    "\n",
    " __init__. Принимает на вход массив весов нейрона --- w = (w_1, ..., w_n)w=(w ,…,w n) а также функцию активации ff (аргумент по умолчанию f(x) = xf(x)=x). Сохраняет веса и функцию внутри класса.\n",
    " \n",
    " forward. Принимает на вход массив x = (x_1, \\ldots, x_n)x=(x1 ,…,x n ) --- входы нейрона. Возвращает f(w_1x_1 + \\ldots + w_nx_n)f(w1*x1 +…+wn*xn).\n",
    "\n",
    " backlog. Возвращает массив xx, который подавался на вход функции forward при её последнем вызове. Если ранее функция forward не вызывалось, возвращает None.\n",
    " \n",
    " В этом задании функция print вам не понадобится. Результаты выполнения функций нужно возвращать, а не печатать!"
   ]
  },
  {
   "cell_type": "code",
   "execution_count": null,
   "metadata": {},
   "outputs": [],
   "source": [
    "class Neuron:\n",
    "    \n",
    "    def __init__(self, w, f = lambda x: x):\n",
    "        self.w = w\n",
    "        self.f = f\n",
    "        self.x = None\n",
    "    \n",
    "    def forward(self, x):\n",
    "        self.x = x\n",
    "        new = zip(self.w, self.x)\n",
    "        return (self.f(sum(list(map(lambda x: x[0] * x[1], new)))))\n",
    "        \n",
    "    def backlog(self):\n",
    "        return(self.x)"
   ]
  }
 ],
 "metadata": {
  "language_info": {
   "name": "python"
  },
  "orig_nbformat": 4
 },
 "nbformat": 4,
 "nbformat_minor": 2
}
